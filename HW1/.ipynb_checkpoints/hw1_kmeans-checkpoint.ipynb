{
 "cells": [
  {
   "cell_type": "code",
   "execution_count": 50,
   "id": "131a11c7",
   "metadata": {},
   "outputs": [
    {
     "data": {
      "text/plain": [
       "<matplotlib.collections.PathCollection at 0x2305aeecee0>"
      ]
     },
     "execution_count": 50,
     "metadata": {},
     "output_type": "execute_result"
    },
    {
     "data": {
      "image/png": "[encoded data removed]",
      "text/plain": [
       "<Figure size 432x288 with 1 Axes>"
      ]
     },
     "metadata": {
      "needs_background": "light"
     },
     "output_type": "display_data"
    }
   ],
   "source": [
    "import pandas as pd\n",
    "import numpy as np\n",
    "data=pd.read_csv(\"cdata.csv\") \n",
    "\n",
    "import matplotlib.pyplot as plt\n",
    "%matplotlib inline\n",
    "plt.scatter(data[\"x\"],data[\"y\"])"
   ]
  },
  {
   "cell_type": "code",
   "execution_count": 68,
   "id": "dc050df6",
   "metadata": {
    "scrolled": true
   },
   "outputs": [],
   "source": [
    "# 計算距離\n",
    "def sum_of_square(vector1,vector2):\n",
    "    return np.sqrt(sum(vector2-vector1)**2)\n",
    "# 初始化\n",
    "def initial_centroids(data,k):\n",
    "    # 求出樣本列數和行數(每個樣本有多少維度的屬性)\n",
    "    num_sample,dim=data.shape # (300, 3)\n",
    "    # 挑選 k 個 centroids，初始化 k 行，dim 列\n",
    "    centroids=np.zeros((k,dim))\n",
    "    # 隨機挑選 k 個 centroids\n",
    "    for i in range(k):\n",
    "        # 隨機選取資料中樣本的 index\n",
    "        index=int(np.random.uniform(0,num_sample))\n",
    "        # 作為初始化的 centriods\n",
    "        centroids[i,:]=data[index,:]\n",
    "    return centroids\n",
    "\n",
    "\n",
    "# 傳入數據和 k 的值\n",
    "def kmeans(data,k):\n",
    "    # 計算樣本個數，shape[0] 相當於行數\n",
    "    num_sample=data.shape[0] # (300, 3)，300個樣本，有 3 個特徵\n",
    "    # 保存樣本的屬性，第一列儲存樣本屬於哪一個cluster，第二列保存和所屬cluster的誤差(距離)\n",
    "    cluster_data=np.array(np.zeros((num_sample,2)))\n",
    "    # 決定 centroids 是否要改變的變量，True 代表要發生改變，False 代表不用改變\n",
    "    cluster_change=True\n",
    "    \n",
    "    # 初始化 centroids\n",
    "    centroids=initial_centroids(data,k)\n",
    "    \n",
    "    # 直到樣本所屬的 cluster 不再發生變化\n",
    "    while cluster_change:\n",
    "        cluster_change=False\n",
    "        # 循環每一個樣本\n",
    "        for i in range(num_sample):\n",
    "            # 最小距離\n",
    "            min_distance=100000\n",
    "            # 定義樣本所屬的cluster\n",
    "            min_index=0\n",
    "            \n",
    "            # 循環計算每一個樣本和 centriods 的距離\n",
    "            for j in range(k):\n",
    "                distance=sum_of_square(centroids[j,:],data[i,:]) ########\n",
    "                # 如果計算的距離 < 最小距離，就更新最小距離\n",
    "                if distance < min_distance:\n",
    "                    min_distance=distance\n",
    "                    # 更新最小距離\n",
    "                    cluster_data[i,1]=min_distance  ################\n",
    "                    # 更新樣本所屬的 cluster\n",
    "                    min_index=j\n",
    "            \n",
    "            # 如果樣本的 centroids 改變，更新 cluster_data 裡的 centroids\n",
    "            if cluster_data[i,0] != min_index:\n",
    "                # centriods 要重新計算\n",
    "                cluster_change=True\n",
    "                # 更新樣本新的 cluster\n",
    "                cluster_data[i,0]=min_index\n",
    "        \n",
    "        # 更新 centroids\n",
    "        for j in range(k):\n",
    "            # 獲取第 j 個 cluster 所有樣本的 index (所有行，第 0 列)\n",
    "            cluster_index=np.nonzero(cluster_data[:,0]==j)\n",
    "            # 第 j 個 cluster 所有的樣本點\n",
    "            points_in_cluster=data[cluster_index]\n",
    "            # 計算 cluster\n",
    "            centroids[j,:]=np.mean(points_in_cluster,axis=0)\n",
    "#         show_cluster(data,k,centroids,cluster_data)\n",
    "    \n",
    "    return centroids,cluster_data\n",
    "\n",
    "# 顯示結果\n",
    "def show_cluster(data,k,centroids,cluster_data):\n",
    "    num_sample,dim=data.shape\n",
    "    if dim != 2:\n",
    "        print(\"dimension of your data is not 2!\")\n",
    "        return 1\n",
    "    \n",
    "    # 用不同顏色表示各個樣本點類別\n",
    "    # 圓點紅色/圓點藍色/圓點綠色/圓點黑色\n",
    "    point_mark=[\"or\",\"ob\",\"og\",\"ok\"]\n",
    "    \n",
    "    # 畫樣本點\n",
    "    for i in range(num_sample):\n",
    "        # 第幾個 cluster : 0,1,2,3\n",
    "        mark_index=int(cluster_data[i,0]) ######\n",
    "        # 第　ｉ　個樣本　ｘ　座標／第　ｉ　個樣本　ｙ　座標\n",
    "        plt.plot(data[i,0],data[i,1],point_mark[mark_index])\n",
    "    \n",
    "    # 用同顏色表示  centroids\n",
    "    centroids_mark=[\"*r\",\"*b\",\"*g\",\"*k\"]\n",
    "    # 畫 centroids \n",
    "    for i in range(k):\n",
    "        plt.plot(centroids[i,0],centroids[i,1],mark[i],marksize=20) #######\n",
    "    \n",
    "    plt.show()\n",
    "    \n",
    "    \n",
    "    # 設置 k 值\n",
    "    k=4\n",
    "    centroids,cluster_data=kmeans(data,k)\n",
    "    # 只要 centroids 存在任何空值，條件成立\n",
    "    if np.isnan(centroids).any():#######\n",
    "        print(\"Error!\")\n",
    "    else:\n",
    "        print(\"cluster complete!\")\n",
    "\n",
    "    # 顯示結果\n",
    "    show_cluster(data,k,centroids,cluster_data)"
   ]
  },
  {
   "cell_type": "code",
   "execution_count": null,
   "id": "d4555020",
   "metadata": {},
   "outputs": [],
   "source": []
  }
 ],
 "metadata": {
  "kernelspec": {
   "display_name": "Python 3 (ipykernel)",
   "language": "python",
   "name": "python3"
  },
  "language_info": {
   "codemirror_mode": {
    "name": "ipython",
    "version": 3
   },
   "file_extension": ".py",
   "mimetype": "text/x-python",
   "name": "python",
   "nbconvert_exporter": "python",
   "pygments_lexer": "ipython3",
   "version": "3.9.7"
  }
 },
 "nbformat": 4,
 "nbformat_minor": 5
}
