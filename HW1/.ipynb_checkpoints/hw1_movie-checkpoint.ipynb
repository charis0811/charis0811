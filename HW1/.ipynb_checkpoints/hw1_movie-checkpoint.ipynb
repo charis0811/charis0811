{
 "cells": [
  {
   "cell_type": "code",
   "execution_count": 6,
   "id": "9119dea3",
   "metadata": {},
   "outputs": [],
   "source": [
    "import pandas as pd\n",
    "df=pd.read_csv(\"IMDB-Movie-Data.csv\") "
   ]
  },
  {
   "cell_type": "code",
   "execution_count": 111,
   "id": "de12d357",
   "metadata": {},
   "outputs": [
    {
     "data": {
      "text/plain": [
       "2             Dangal\n",
       "4      Kimi no na wa\n",
       "15    Koe no katachi\n",
       "Name: Title, dtype: object"
      ]
     },
     "execution_count": 111,
     "metadata": {},
     "output_type": "execute_result"
    }
   ],
   "source": [
    "#Question 1\n",
    "df2=df[\"Year\"]==2016\n",
    "df3=df[df2]\n",
    "df4=df3.sort_values(\"Rating\",ascending=False).head(3)\n",
    "df4[\"Title\"]"
   ]
  },
  {
   "cell_type": "code",
   "execution_count": 18,
   "id": "7ff4ea7a",
   "metadata": {},
   "outputs": [
    {
     "data": {
      "text/plain": [
       "Actors\n",
       "Daisy Ridley| John Boyega| Oscar Isaac| Domhnall Gleeson    936.63\n",
       "Name: Revenue (Millions), dtype: float64"
      ]
     },
     "execution_count": 18,
     "metadata": {},
     "output_type": "execute_result"
    }
   ],
   "source": [
    "#Question 2\n",
    "import re\n",
    "import pandas as pd\n",
    "df=pd.read_csv(\"IMDB-Movie-Data.csv\") \n",
    "df5=re.split(\"[|]\",str(df.Actors))\n",
    "\n",
    "df.groupby(\"Actors\")[\"Revenue (Millions)\"].sum().sort_values(ascending=False).head(1)"
   ]
  },
  {
   "cell_type": "code",
   "execution_count": 5,
   "id": "d853fdba",
   "metadata": {},
   "outputs": [
    {
     "data": {
      "text/plain": [
       "7.175000000000001"
      ]
     },
     "execution_count": 5,
     "metadata": {},
     "output_type": "execute_result"
    }
   ],
   "source": [
    "#Question 3\n",
    "import pandas as pd\n",
    "df=pd.read_csv(\"IMDB-Movie-Data.csv\")\n",
    "emma_total=df[[\"Emma Watson\" in x for x in df[\"Actors\"]]]\n",
    "emma_average_rating=emma_total[\"Rating\"].sum()/len(emma_total)\n",
    "emma_average_rating"
   ]
  },
  {
   "cell_type": "code",
   "execution_count": 50,
   "id": "3c9339b0",
   "metadata": {},
   "outputs": [
    {
     "data": {
      "text/plain": [
       "Ridley Scott            1.0\n",
       "David Yates             2.0\n",
       "Paul W.S. Anderson      2.0\n",
       "Michael Bay             2.0\n",
       "M. Night Shyamalan      2.0\n",
       "                      ...  \n",
       "Jeremy Saulnier       201.0\n",
       "Drew Goddard          201.0\n",
       "Robert Stromberg      201.0\n",
       "Andrea Arnold         201.0\n",
       "Jason Friedberg       201.0\n",
       "Name: Director, Length: 644, dtype: float64"
      ]
     },
     "execution_count": 50,
     "metadata": {},
     "output_type": "execute_result"
    }
   ],
   "source": [
    "#Question 4\n",
    "import pandas as pd\n",
    "df=pd.read_csv(\"IMDB-Movie-Data.csv\")\n",
    "directors_count=df.Director.value_counts()\n",
    "df1=pd.Series(directors_count)\n",
    "df1.rank(method='min',ascending=False)\n",
    "# def get_top3(x):\n",
    "#     return x[x.rank(method='dense', ascending=False) == 3.0]\n",
    "# df.apply(get_top3)"
   ]
  },
  {
   "cell_type": "code",
   "execution_count": 36,
   "id": "14ea5059",
   "metadata": {},
   "outputs": [
    {
     "ename": "TypeError",
     "evalue": "'numpy.int64' object does not support item assignment",
     "output_type": "error",
     "traceback": [
      "\u001b[1;31m---------------------------------------------------------------------------\u001b[0m",
      "\u001b[1;31mTypeError\u001b[0m                                 Traceback (most recent call last)",
      "\u001b[1;32m~\\AppData\\Local\\Temp/ipykernel_14268/2714756673.py\u001b[0m in \u001b[0;36m<module>\u001b[1;34m\u001b[0m\n\u001b[0;32m     14\u001b[0m \u001b[1;32mfor\u001b[0m \u001b[0mi\u001b[0m \u001b[1;32min\u001b[0m \u001b[0mrange\u001b[0m\u001b[1;33m(\u001b[0m\u001b[0mlen\u001b[0m\u001b[1;33m(\u001b[0m\u001b[0mdf\u001b[0m\u001b[1;33m)\u001b[0m\u001b[1;33m)\u001b[0m\u001b[1;33m:\u001b[0m\u001b[1;33m\u001b[0m\u001b[1;33m\u001b[0m\u001b[0m\n\u001b[0;32m     15\u001b[0m     \u001b[1;32mfor\u001b[0m \u001b[0mj\u001b[0m \u001b[1;32min\u001b[0m \u001b[0mrange\u001b[0m\u001b[1;33m(\u001b[0m\u001b[1;36m4\u001b[0m\u001b[1;33m)\u001b[0m\u001b[1;33m:\u001b[0m\u001b[1;33m\u001b[0m\u001b[1;33m\u001b[0m\u001b[0m\n\u001b[1;32m---> 16\u001b[1;33m         \u001b[0mdf\u001b[0m\u001b[1;33m.\u001b[0m\u001b[0miloc\u001b[0m\u001b[1;33m[\u001b[0m\u001b[0mi\u001b[0m\u001b[1;33m]\u001b[0m\u001b[1;33m[\u001b[0m\u001b[1;36m0\u001b[0m\u001b[1;33m]\u001b[0m\u001b[1;33m[\u001b[0m\u001b[1;34m\"Genre\"\u001b[0m\u001b[1;33m]\u001b[0m\u001b[1;33m=\u001b[0m\u001b[0mdf\u001b[0m\u001b[1;33m.\u001b[0m\u001b[0miloc\u001b[0m\u001b[1;33m[\u001b[0m\u001b[0mi\u001b[0m\u001b[1;33m]\u001b[0m\u001b[1;33m[\u001b[0m\u001b[1;34m\"Genre\"\u001b[0m\u001b[1;33m]\u001b[0m\u001b[1;33m.\u001b[0m\u001b[0msplit\u001b[0m\u001b[1;33m(\u001b[0m\u001b[1;34m\"|\"\u001b[0m\u001b[1;33m)\u001b[0m\u001b[1;33m\u001b[0m\u001b[1;33m\u001b[0m\u001b[0m\n\u001b[0m\u001b[0;32m     17\u001b[0m         \u001b[0mdf\u001b[0m\u001b[1;33m.\u001b[0m\u001b[0miloc\u001b[0m\u001b[1;33m[\u001b[0m\u001b[0mi\u001b[0m\u001b[1;33m]\u001b[0m\u001b[1;33m[\u001b[0m\u001b[1;36m0\u001b[0m\u001b[1;33m]\u001b[0m\u001b[1;33m[\u001b[0m\u001b[1;34m\"Actors\"\u001b[0m\u001b[1;33m]\u001b[0m\u001b[1;33m=\u001b[0m\u001b[1;33m[\u001b[0m\u001b[0mx\u001b[0m \u001b[1;32mfor\u001b[0m \u001b[0mi\u001b[0m \u001b[1;32min\u001b[0m \u001b[0mdf\u001b[0m\u001b[1;33m.\u001b[0m\u001b[0miloc\u001b[0m\u001b[1;33m[\u001b[0m\u001b[0mi\u001b[0m\u001b[1;33m]\u001b[0m\u001b[1;33m[\u001b[0m\u001b[1;34m\"Actors\"\u001b[0m\u001b[1;33m]\u001b[0m\u001b[1;33m.\u001b[0m\u001b[0msplit\u001b[0m\u001b[1;33m(\u001b[0m\u001b[1;34m'|'\u001b[0m\u001b[1;33m)\u001b[0m \u001b[1;32mfor\u001b[0m \u001b[0mx\u001b[0m \u001b[1;32min\u001b[0m \u001b[0mi\u001b[0m\u001b[1;33m.\u001b[0m\u001b[0msplit\u001b[0m\u001b[1;33m(\u001b[0m\u001b[1;34m'| '\u001b[0m\u001b[1;33m)\u001b[0m\u001b[1;33m]\u001b[0m\u001b[1;33m\u001b[0m\u001b[1;33m\u001b[0m\u001b[0m\n\u001b[0;32m     18\u001b[0m \u001b[1;33m\u001b[0m\u001b[0m\n",
      "\u001b[1;31mTypeError\u001b[0m: 'numpy.int64' object does not support item assignment"
     ]
    }
   ],
   "source": [
    "#Question 5\n",
    "import pandas as pd\n",
    "df=pd.read_csv(\"IMDB-Movie-Data.csv\") \n",
    "\n",
    "# # #split Genre and Actors\n",
    "df1=[]\n",
    "df2=[]\n",
    "for i in range(len(df)):\n",
    "    df1.append(df.iloc[i][\"Genre\"].split(\"|\"))\n",
    "    df2.append([x for i in df.iloc[i][\"Actors\"].split('|') for x in i.split('| ')])\n",
    "\n",
    "\n",
    "# actors=[]\n",
    "# for i in range(len(df.Actors)):# 1000\n",
    "#     for j in df[i][\"Actors\"]: # 4\n",
    "#         check=False\n",
    "#         if check==False:\n",
    "#             actors.append(rng[i][4][j])\n",
    "#         if rng[i][4][j] in actors:\n",
    "#             check=True\n"
   ]
  },
  {
   "cell_type": "code",
   "execution_count": 23,
   "id": "5f3cf374",
   "metadata": {},
   "outputs": [],
   "source": [
    "#Question 6"
   ]
  },
  {
   "cell_type": "code",
   "execution_count": null,
   "id": "b9b58ff5",
   "metadata": {},
   "outputs": [],
   "source": [
    "#Question 7"
   ]
  }
 ],
 "metadata": {
  "kernelspec": {
   "display_name": "Python 3 (ipykernel)",
   "language": "python",
   "name": "python3"
  },
  "language_info": {
   "codemirror_mode": {
    "name": "ipython",
    "version": 3
   },
   "file_extension": ".py",
   "mimetype": "text/x-python",
   "name": "python",
   "nbconvert_exporter": "python",
   "pygments_lexer": "ipython3",
   "version": "3.9.7"
  }
 },
 "nbformat": 4,
 "nbformat_minor": 5
}
