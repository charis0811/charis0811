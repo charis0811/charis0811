{
 "cells": [
  {
   "cell_type": "code",
   "execution_count": 5,
   "source": [
    "import pandas as pd\r\n",
    "df=pd.read_csv(\"IMDB-Movie-Data.csv\")"
   ],
   "outputs": [],
   "metadata": {}
  },
  {
   "cell_type": "code",
   "execution_count": 14,
   "source": [
    "#Question 1\r\n",
    "df.nlargest(3,'Rating').Title"
   ],
   "outputs": [
    {
     "output_type": "execute_result",
     "data": {
      "text/plain": [
       "0    The Dark Knight\n",
       "1          Inception\n",
       "2             Dangal\n",
       "Name: Title, dtype: object"
      ]
     },
     "metadata": {},
     "execution_count": 14
    }
   ],
   "metadata": {}
  },
  {
   "cell_type": "code",
   "execution_count": 21,
   "source": [
    "#Question 2\r\n",
    "df.Actors"
   ],
   "outputs": [
    {
     "output_type": "execute_result",
     "data": {
      "text/plain": [
       "0      Christian Bale| Heath Ledger| Aaron Eckhart|Mi...\n",
       "1      Leonardo DiCaprio| Joseph Gordon-Levitt| Ellen...\n",
       "2      Aamir Khan| Sakshi Tanwar| Fatima Sana Shaikh|...\n",
       "3      Matthew McConaughey| Anne Hathaway| Jessica Ch...\n",
       "4      Ryunosuke Kamiki| Mone Kamishiraishi| Ryo Nari...\n",
       "                             ...                        \n",
       "995    Anna Hutchison| Andrea Whitburn| Jennifer Koen...\n",
       "996    Dan Crisafulli| Kay Whitney| Richard Garcia| P...\n",
       "997    Brittany Blanton| Ayse Howard| Roman Jossart|N...\n",
       "998    Justin Chatwin| James Marsters| Yun-Fat Chow| ...\n",
       "999    Carmen Electra| Vanessa Lachey|Nicole Parker| ...\n",
       "Name: Actors, Length: 1000, dtype: object"
      ]
     },
     "metadata": {},
     "execution_count": 21
    }
   ],
   "metadata": {}
  },
  {
   "cell_type": "code",
   "execution_count": 1,
   "source": [
    "#Question 4\r\n",
    "freq = df['Director'].value_counts() \r\n",
    "print(freq) "
   ],
   "outputs": [
    {
     "output_type": "error",
     "ename": "NameError",
     "evalue": "name 'df' is not defined",
     "traceback": [
      "\u001b[1;31m---------------------------------------------------------------------------\u001b[0m",
      "\u001b[1;31mNameError\u001b[0m                                 Traceback (most recent call last)",
      "\u001b[1;32m~\\AppData\\Local\\Temp/ipykernel_1016/1786576188.py\u001b[0m in \u001b[0;36m<module>\u001b[1;34m\u001b[0m\n\u001b[0;32m      1\u001b[0m \u001b[1;31m#Question 4\u001b[0m\u001b[1;33m\u001b[0m\u001b[1;33m\u001b[0m\u001b[0m\n\u001b[1;32m----> 2\u001b[1;33m \u001b[0mfreq\u001b[0m \u001b[1;33m=\u001b[0m \u001b[0mdf\u001b[0m\u001b[1;33m[\u001b[0m\u001b[1;34m'Director'\u001b[0m\u001b[1;33m]\u001b[0m\u001b[1;33m.\u001b[0m\u001b[0mvalue_counts\u001b[0m\u001b[1;33m(\u001b[0m\u001b[1;33m)\u001b[0m\u001b[1;33m\u001b[0m\u001b[1;33m\u001b[0m\u001b[0m\n\u001b[0m\u001b[0;32m      3\u001b[0m \u001b[0mprint\u001b[0m\u001b[1;33m(\u001b[0m\u001b[0mfreq\u001b[0m\u001b[1;33m)\u001b[0m\u001b[1;33m\u001b[0m\u001b[1;33m\u001b[0m\u001b[0m\n",
      "\u001b[1;31mNameError\u001b[0m: name 'df' is not defined"
     ]
    }
   ],
   "metadata": {}
  },
  {
   "cell_type": "code",
   "execution_count": null,
   "source": [],
   "outputs": [],
   "metadata": {}
  }
 ],
 "metadata": {
  "kernelspec": {
   "name": "python3",
   "display_name": "Python 3.9.7 64-bit"
  },
  "language_info": {
   "codemirror_mode": {
    "name": "ipython",
    "version": 3
   },
   "file_extension": ".py",
   "mimetype": "text/x-python",
   "name": "python",
   "nbconvert_exporter": "python",
   "pygments_lexer": "ipython3",
   "version": "3.9.7"
  },
  "interpreter": {
   "hash": "a3a7c7a1559d0b6de0b466ba7a8859be137ba5abae1bf02e73917c3bedb839dd"
  }
 },
 "nbformat": 4,
 "nbformat_minor": 5
}