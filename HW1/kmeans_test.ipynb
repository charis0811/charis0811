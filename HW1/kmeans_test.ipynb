{
 "cells": [
  {
   "cell_type": "code",
   "execution_count": 4,
   "id": "4890610b",
   "metadata": {},
   "outputs": [
    {
     "name": "stdout",
     "output_type": "stream",
     "text": [
      "Done\n"
     ]
    },
    {
     "data": {
      "image/png": "[encoded data removed]",
      "text/plain": [
       "<Figure size 432x288 with 1 Axes>"
      ]
     },
     "metadata": {
      "needs_background": "light"
     },
     "output_type": "display_data"
    },
    {
     "data": {
      "image/png": "[encoded data removed]",
      "text/plain": [
       "<Figure size 432x288 with 1 Axes>"
      ]
     },
     "metadata": {
      "needs_background": "light"
     },
     "output_type": "display_data"
    }
   ],
   "source": [
    "import numpy as np\n",
    "import matplotlib.pyplot as plt\n",
    "import numpy as np\n",
    "\n",
    "cl_num = 3\n",
    "data_num = 20\n",
    "thr = [0.00001, 0.00001, 0.00001]\n",
    "\n",
    "\n",
    "def dist(x, y, mu_x, mu_y):\n",
    "    return ((mu_x - x)**2 + (mu_y - y)**2)\n",
    "\n",
    "\n",
    "def cluster(x, y, mu_x, mu_y):\n",
    "\n",
    "    cls_ = dict()\n",
    "    for i in range(data_num):\n",
    "        dists = []\n",
    "        for j in range(cl_num):\n",
    "            distant = dist(x[i], y[i], mu_x[j], mu_y[j])\n",
    "            dists.append(distant)\n",
    "        cl = dists.index(min(dists))\n",
    "        if cl not in cls_:\n",
    "            cls_[cl] = [(x[i], y[i])]\n",
    "        elif cl in cls_:\n",
    "            cls_[cl].append((x[i], y[i]))\n",
    "\n",
    "    return cls_\n",
    "\n",
    "\n",
    "def re_mu(cls_, mu_x, mu_y):\n",
    "    new_muX = []\n",
    "    new_muY = []\n",
    "\n",
    "    for key, values in cls_.items():\n",
    "\n",
    "        if len(values) == 0:\n",
    "            values.append([mu_x[key], mu_y[key]])\n",
    "\n",
    "        sum_x = 0\n",
    "        sum_y = 0\n",
    "        for v in values:\n",
    "            sum_x += v[0]\n",
    "            sum_y += v[1]\n",
    "\n",
    "        new_mu_x = sum_x / len(values)\n",
    "        new_mu_y = sum_y / len(values)\n",
    "\n",
    "        new_muX.append(round(new_mu_x, 2))\n",
    "        new_muY.append(round(new_mu_y, 2))\n",
    "    return new_muX, new_muY\n",
    "\n",
    "\n",
    "def main():\n",
    "\n",
    "    x = np.random.randint(0, 500, data_num)\n",
    "    y = np.random.randint(0, 500, data_num)\n",
    "\n",
    "    mu_x = np.random.randint(0, 500, cl_num)\n",
    "    mu_y = np.random.randint(0, 500, cl_num)\n",
    "\n",
    "    cls_ = cluster(x, y, mu_x, mu_y)\n",
    "\n",
    "    new_muX, new_muY = re_mu(cls_, mu_x, mu_y)\n",
    "\n",
    "    while any((abs(np.array(new_muX) - np.array(mu_x)) > thr)) != False or any(\n",
    "        (abs(np.array(new_muY) - np.array(mu_y)) > thr)) != False:\n",
    "        mu_x = new_muX\n",
    "        mu_y = new_muY\n",
    "        cls_ = cluster(x, y, mu_x, mu_y)\n",
    "        new_muX, new_muY = re_mu(cls_, mu_x, mu_y)\n",
    "\n",
    "    print('Done')\n",
    "\n",
    "    plt.scatter(x, y)\n",
    "    plt.scatter(new_muX, new_muY)\n",
    "    plt.show()\n",
    "\n",
    "    colors = ['r', 'b', 'g']\n",
    "    for key, values in cls_.items():\n",
    "        cx = []\n",
    "        cy = []\n",
    "        for v in values:\n",
    "            cx.append(v[0])\n",
    "            cy.append(v[1])\n",
    "        plt.scatter(cx, cy, color=colors[key])\n",
    "\n",
    "    plt.show()\n",
    "\n",
    "\n",
    "if __name__ == '__main__':\n",
    "    main()\n"
   ]
  },
  {
   "cell_type": "code",
   "execution_count": null,
   "id": "3d68f1cc",
   "metadata": {},
   "outputs": [],
   "source": []
  },
  {
   "cell_type": "code",
   "execution_count": null,
   "id": "6a1ae329",
   "metadata": {},
   "outputs": [],
   "source": []
  },
  {
   "cell_type": "code",
   "execution_count": null,
   "id": "13420452",
   "metadata": {},
   "outputs": [],
   "source": []
  },
  {
   "cell_type": "code",
   "execution_count": null,
   "id": "5c781bbc",
   "metadata": {},
   "outputs": [],
   "source": []
  },
  {
   "cell_type": "code",
   "execution_count": null,
   "id": "e7b121b9",
   "metadata": {},
   "outputs": [],
   "source": []
  },
  {
   "cell_type": "code",
   "execution_count": null,
   "id": "0e14eaa9",
   "metadata": {},
   "outputs": [],
   "source": []
  }
 ],
 "metadata": {
  "kernelspec": {
   "display_name": "Python 3 (ipykernel)",
   "language": "python",
   "name": "python3"
  },
  "language_info": {
   "codemirror_mode": {
    "name": "ipython",
    "version": 3
   },
   "file_extension": ".py",
   "mimetype": "text/x-python",
   "name": "python",
   "nbconvert_exporter": "python",
   "pygments_lexer": "ipython3",
   "version": "3.9.7"
  }
 },
 "nbformat": 4,
 "nbformat_minor": 5
}
