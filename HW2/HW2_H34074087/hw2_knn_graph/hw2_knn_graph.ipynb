{
 "cells": [
  {
   "cell_type": "markdown",
   "id": "ff24eaa0",
   "metadata": {},
   "source": [
    "## HW2 | KNN Graph Instruction\n",
    "\n",
    "#### 1. Fill in all code (under # put your code here)\n",
    "\n",
    "#### 2. Must use Pandas or Numpy if there is an instruction \n",
    "\n",
    "#### 3. Generate the plot that is exactly the same as the table right after each code block\n",
    "\n",
    "#### 4. Answer the question at the end of this jupyter notebook\n"
   ]
  },
  {
   "cell_type": "code",
   "execution_count": 2,
   "id": "24d853d7",
   "metadata": {},
   "outputs": [],
   "source": [
    "import numpy as np\n",
    "import pandas as pd\n",
    "import matplotlib.pyplot as plt\n",
    "import random"
   ]
  },
  {
   "cell_type": "markdown",
   "id": "0dec0342",
   "metadata": {},
   "source": [
    "## Swiss Banknote Dataset\n",
    "\n",
    "Six variables measured on 100 genuine and 100 counterfeit old Swiss 1000-franc\n",
    "bank notes. The data stem from Flury and Riedwyl (1988). The columns correspond\n",
    "to the following one label and six variables:\n",
    "\n",
    "0. Conterfeit - 0: genuine bank notes、1: genuine bank notes (Labels)\n",
    "\n",
    "\n",
    "1. Length - Length of the bank note\n",
    "\n",
    "\n",
    "2. Left - Height of the bank note, measured on the left\n",
    "\n",
    "\n",
    "3. Right - Height of the bank note, measured on the right\n",
    "\n",
    "\n",
    "4. Bottom - Distance of inner frame to the lower border\n",
    "\n",
    "\n",
    "5. Top - Distance of inner frame to the upper border\n",
    "\n",
    "\n",
    "6. Diagonal - Length of the diagonal\n",
    "\n",
    "\n",
    "\n",
    "More details: [Kaggle | Swiss banknote conterfeit detection](https://www.kaggle.com/chrizzles/swiss-banknote-conterfeit-detection)"
   ]
  },
  {
   "cell_type": "code",
   "execution_count": 13,
   "id": "ad49a156",
   "metadata": {},
   "outputs": [
    {
     "data": {
      "text/html": [
       "<div>\n",
       "<style scoped>\n",
       "    .dataframe tbody tr th:only-of-type {\n",
       "        vertical-align: middle;\n",
       "    }\n",
       "\n",
       "    .dataframe tbody tr th {\n",
       "        vertical-align: top;\n",
       "    }\n",
       "\n",
       "    .dataframe thead th {\n",
       "        text-align: right;\n",
       "    }\n",
       "</style>\n",
       "<table border=\"1\" class=\"dataframe\">\n",
       "  <thead>\n",
       "    <tr style=\"text-align: right;\">\n",
       "      <th></th>\n",
       "      <th>conterfeit</th>\n",
       "      <th>Length</th>\n",
       "      <th>Left</th>\n",
       "      <th>Right</th>\n",
       "      <th>Bottom</th>\n",
       "      <th>Top</th>\n",
       "      <th>Diagonal</th>\n",
       "    </tr>\n",
       "  </thead>\n",
       "  <tbody>\n",
       "    <tr>\n",
       "      <th>0</th>\n",
       "      <td>0</td>\n",
       "      <td>214.8</td>\n",
       "      <td>131.0</td>\n",
       "      <td>131.1</td>\n",
       "      <td>9.0</td>\n",
       "      <td>9.7</td>\n",
       "      <td>141.0</td>\n",
       "    </tr>\n",
       "    <tr>\n",
       "      <th>1</th>\n",
       "      <td>0</td>\n",
       "      <td>214.6</td>\n",
       "      <td>129.7</td>\n",
       "      <td>129.7</td>\n",
       "      <td>8.1</td>\n",
       "      <td>9.5</td>\n",
       "      <td>141.7</td>\n",
       "    </tr>\n",
       "    <tr>\n",
       "      <th>2</th>\n",
       "      <td>0</td>\n",
       "      <td>214.8</td>\n",
       "      <td>129.7</td>\n",
       "      <td>129.7</td>\n",
       "      <td>8.7</td>\n",
       "      <td>9.6</td>\n",
       "      <td>142.2</td>\n",
       "    </tr>\n",
       "    <tr>\n",
       "      <th>3</th>\n",
       "      <td>0</td>\n",
       "      <td>214.8</td>\n",
       "      <td>129.7</td>\n",
       "      <td>129.6</td>\n",
       "      <td>7.5</td>\n",
       "      <td>10.4</td>\n",
       "      <td>142.0</td>\n",
       "    </tr>\n",
       "    <tr>\n",
       "      <th>4</th>\n",
       "      <td>0</td>\n",
       "      <td>215.0</td>\n",
       "      <td>129.6</td>\n",
       "      <td>129.7</td>\n",
       "      <td>10.4</td>\n",
       "      <td>7.7</td>\n",
       "      <td>141.8</td>\n",
       "    </tr>\n",
       "  </tbody>\n",
       "</table>\n",
       "</div>"
      ],
      "text/plain": [
       "   conterfeit  Length   Left  Right  Bottom   Top  Diagonal\n",
       "0           0   214.8  131.0  131.1     9.0   9.7     141.0\n",
       "1           0   214.6  129.7  129.7     8.1   9.5     141.7\n",
       "2           0   214.8  129.7  129.7     8.7   9.6     142.2\n",
       "3           0   214.8  129.7  129.6     7.5  10.4     142.0\n",
       "4           0   215.0  129.6  129.7    10.4   7.7     141.8"
      ]
     },
     "execution_count": 13,
     "metadata": {},
     "output_type": "execute_result"
    }
   ],
   "source": [
    "# Use [Pandas] to import data | banknotes.csv\n",
    "# Put your code here \n",
    "\n",
    "bank = pd.read_csv(\"banknotes.csv\")\n",
    "label = bank.conterfeit\n",
    "\n",
    "bank.head()"
   ]
  },
  {
   "cell_type": "code",
   "execution_count": 14,
   "id": "670df8d8",
   "metadata": {},
   "outputs": [
    {
     "data": {
      "text/plain": [
       "array([[ 9. ,  9.7],\n",
       "       [ 8.1,  9.5],\n",
       "       [ 8.7,  9.6],\n",
       "       [ 7.5, 10.4],\n",
       "       [10.4,  7.7],\n",
       "       [ 9. , 10.1],\n",
       "       [ 7.9,  9.6],\n",
       "       [ 7.2, 10.7],\n",
       "       [ 8.2, 11. ],\n",
       "       [ 9.2, 10. ],\n",
       "       [ 7.9, 11.7],\n",
       "       [ 7.7, 10.5],\n",
       "       [ 7.9, 10.8],\n",
       "       [ 7.7, 10.9],\n",
       "       [ 7.7, 10.8],\n",
       "       [ 9.3,  8.5],\n",
       "       [ 8.2,  9.8],\n",
       "       [ 9. ,  9. ],\n",
       "       [ 7.4, 11.5],\n",
       "       [ 8.6, 10. ],\n",
       "       [ 8.4, 10. ],\n",
       "       [ 8.1, 10.3],\n",
       "       [ 8.4, 10.8],\n",
       "       [ 8.7, 10. ],\n",
       "       [ 7.4, 10.8],\n",
       "       [ 8. , 11. ],\n",
       "       [ 8.9,  9.8],\n",
       "       [ 9.8,  9.5],\n",
       "       [ 7.4, 10.5],\n",
       "       [ 8.3,  9. ],\n",
       "       [ 7.9, 10.7],\n",
       "       [ 8.6,  9.1],\n",
       "       [ 7.7, 10.5],\n",
       "       [ 8.4, 10.3],\n",
       "       [ 8.9, 10.6],\n",
       "       [ 9.4,  9.7],\n",
       "       [ 8.4,  9.7],\n",
       "       [ 7.9, 10. ],\n",
       "       [ 8.5,  9.3],\n",
       "       [ 8.1,  9.7],\n",
       "       [ 8.9,  9.4],\n",
       "       [ 8.8,  9.9],\n",
       "       [ 9.3,  9. ],\n",
       "       [ 9. ,  9.8],\n",
       "       [ 8.2, 10.2],\n",
       "       [ 8.3, 10.2],\n",
       "       [ 8.3, 10.2],\n",
       "       [ 7.3, 10.9],\n",
       "       [ 7.9, 10.3],\n",
       "       [ 7.8,  9.8],\n",
       "       [ 7.2, 10. ],\n",
       "       [ 9.5,  9.7],\n",
       "       [ 7.8, 10.9],\n",
       "       [ 7.6, 10.9],\n",
       "       [ 7.9, 10. ],\n",
       "       [ 9.2,  9.4],\n",
       "       [ 9.2, 10.4],\n",
       "       [ 8.8,  9. ],\n",
       "       [ 7.9, 11. ],\n",
       "       [ 8.2, 10.3],\n",
       "       [ 8.3,  9.9],\n",
       "       [ 7.5, 10.5],\n",
       "       [ 8. , 10.6],\n",
       "       [ 8. , 10.8],\n",
       "       [ 8.6, 10.6],\n",
       "       [ 8.8, 10.6],\n",
       "       [ 7.7, 10.3],\n",
       "       [ 9.1,  9.5],\n",
       "       [ 8.6,  9.8],\n",
       "       [ 8. , 11.2],\n",
       "       [ 8.4, 11.1],\n",
       "       [ 8.2, 10.3],\n",
       "       [ 8.7, 10. ],\n",
       "       [ 7.5, 10.5],\n",
       "       [ 7.2, 10.6],\n",
       "       [ 7.6, 10.7],\n",
       "       [ 8.8, 10. ],\n",
       "       [ 7.4, 10.6],\n",
       "       [ 7.9, 10.9],\n",
       "       [ 7.9, 10. ],\n",
       "       [ 8.6, 10.3],\n",
       "       [ 7.5, 10.3],\n",
       "       [ 9. ,  9.7],\n",
       "       [ 7.9, 10.8],\n",
       "       [ 9. , 11.1],\n",
       "       [ 8.9, 10.2],\n",
       "       [ 8.7,  9.5],\n",
       "       [ 8.4, 10.2],\n",
       "       [ 7.4, 11.2],\n",
       "       [ 8. , 10.5],\n",
       "       [ 8.6,  9.6],\n",
       "       [ 8.5,  9.7],\n",
       "       [ 8.2,  9.9],\n",
       "       [ 7.4, 10.7],\n",
       "       [ 8.3, 10. ],\n",
       "       [ 9. ,  9.5],\n",
       "       [ 9.1, 10.2],\n",
       "       [ 8. , 10.3],\n",
       "       [ 9.1, 10.2],\n",
       "       [ 7.8, 10. ],\n",
       "       [ 9.7, 11.7],\n",
       "       [11. , 11.5],\n",
       "       [ 8.7, 11.7],\n",
       "       [ 9.9, 10.9],\n",
       "       [11.8, 10.9],\n",
       "       [10.6, 10.7],\n",
       "       [ 9.3, 12.1],\n",
       "       [ 9.8, 11.5],\n",
       "       [10. , 11.9],\n",
       "       [10.4, 11.2],\n",
       "       [ 8. , 11.5],\n",
       "       [10.6, 11.5],\n",
       "       [ 9.7, 11.8],\n",
       "       [11.4, 11. ],\n",
       "       [10.6, 10.8],\n",
       "       [ 8.2, 11.2],\n",
       "       [11.8, 10.5],\n",
       "       [12.1, 10.4],\n",
       "       [11. , 11. ],\n",
       "       [10.1, 12. ],\n",
       "       [10.1, 12.1],\n",
       "       [12.3, 10.2],\n",
       "       [11.6, 10.6],\n",
       "       [10.5, 11.2],\n",
       "       [ 9.9, 10.3],\n",
       "       [10.2, 11.4],\n",
       "       [ 9.4, 11.6],\n",
       "       [10.2, 11.8],\n",
       "       [10.1, 11.3],\n",
       "       [ 9.8, 12.1],\n",
       "       [10.7, 10.5],\n",
       "       [12.3, 11.2],\n",
       "       [10.6, 11.5],\n",
       "       [10.5, 11.8],\n",
       "       [11. , 11.2],\n",
       "       [11.9, 11.1],\n",
       "       [10.7, 11.1],\n",
       "       [ 9.3, 11.2],\n",
       "       [11.3, 10.8],\n",
       "       [11.8, 10.2],\n",
       "       [10. , 11.9],\n",
       "       [10.2, 11. ],\n",
       "       [11.2, 10.7],\n",
       "       [10.6, 11.1],\n",
       "       [11.4, 10. ],\n",
       "       [11.9, 10.5],\n",
       "       [11.4, 10.7],\n",
       "       [ 9.3, 11.3],\n",
       "       [10.7, 11. ],\n",
       "       [ 9.9, 12.3],\n",
       "       [11.9, 10.6],\n",
       "       [11.9, 10.1],\n",
       "       [10.4, 11. ],\n",
       "       [12.1, 10.3],\n",
       "       [11. , 11.5],\n",
       "       [11.6, 10.5],\n",
       "       [10.3, 11.4],\n",
       "       [11.3, 10.7],\n",
       "       [12.5, 10. ],\n",
       "       [ 8.1, 12.1],\n",
       "       [ 7.4, 12.2],\n",
       "       [ 9.9, 10.2],\n",
       "       [11.5, 10.6],\n",
       "       [11.6, 10.9],\n",
       "       [11.4, 10.5],\n",
       "       [10.3, 12. ],\n",
       "       [10. , 10.1],\n",
       "       [ 9.6, 11.2],\n",
       "       [ 9.6, 12. ],\n",
       "       [11.4, 10.9],\n",
       "       [ 8.7, 11.5],\n",
       "       [12. , 10.2],\n",
       "       [11.8, 10.5],\n",
       "       [10.4, 11.6],\n",
       "       [11.4, 10.5],\n",
       "       [11.9, 10.7],\n",
       "       [11.6, 10.5],\n",
       "       [ 9.9, 12. ],\n",
       "       [10.2, 12.1],\n",
       "       [ 8.2, 11.8],\n",
       "       [11.4, 10.7],\n",
       "       [ 8. , 11.4],\n",
       "       [11. , 11.4],\n",
       "       [10.1, 11.4],\n",
       "       [10.7, 11.1],\n",
       "       [11.5, 10.7],\n",
       "       [ 8. , 12.2],\n",
       "       [11.4, 10.6],\n",
       "       [ 9.6, 11.9],\n",
       "       [12.7,  9.1],\n",
       "       [10.2, 12. ],\n",
       "       [ 8.8, 11. ],\n",
       "       [10.8, 11.1],\n",
       "       [ 9.6, 11. ],\n",
       "       [11.6, 10.6],\n",
       "       [ 9.9, 12.1],\n",
       "       [10.3, 11.5],\n",
       "       [10.6, 11.1],\n",
       "       [11.2, 11.2],\n",
       "       [10.2, 11.5]])"
      ]
     },
     "execution_count": 14,
     "metadata": {},
     "output_type": "execute_result"
    }
   ],
   "source": [
    "# Use [Numpy function] to stack the following columns\n",
    "# The 5-th column \"Bottom\" as X, the 6-th column \"Top\" as Y\n",
    "# Put your code here\n",
    "\n",
    "data_xy = np.array(bank[[\"Bottom\",\"Top\"]])\n",
    "data_xy"
   ]
  },
  {
   "cell_type": "code",
   "execution_count": 15,
   "id": "056e9eda",
   "metadata": {},
   "outputs": [
    {
     "data": {
      "image/png": "[encoded data removed]",
      "text/plain": [
       "<Figure size 720x720 with 1 Axes>"
      ]
     },
     "metadata": {
      "needs_background": "light"
     },
     "output_type": "display_data"
    }
   ],
   "source": [
    "# Use [Numpy function] to find where label = 0 / label = 1\n",
    "\n",
    "# array([ 0,1,...99])\n",
    "index_0=np.where(bank[\"conterfeit\"]==0)\n",
    "# array([ 100,101,...199])\n",
    "index_1=np.where(bank[\"conterfeit\"]==1)\n",
    "\n",
    "\n",
    "# Use data_xy to plot the scatter plot \n",
    "# Label = 0 → color = green | Label = 1 → color = red\n",
    "# Fill X and Y in the plt.scatter \n",
    "# Remember to put on grid and legend and equal axis\n",
    "\n",
    "plt.figure(figsize = (10, 10))\n",
    "plt.scatter(data_xy[index_0,0],data_xy[index_0,1],s=20, alpha=0.8,c=\"green\")\n",
    "plt.scatter(data_xy[index_1,0],data_xy[index_1,1],s=20, alpha=0.8,c=\"red\") \n",
    "plt.legend([\"real banknote\",\"fake banknote\"])\n",
    "plt.grid()"
   ]
  },
  {
   "cell_type": "code",
   "execution_count": 16,
   "id": "bc6ca3b9",
   "metadata": {},
   "outputs": [],
   "source": [
    "# Use [Numpy function] to calculate the squared distance matrix between each points\n",
    "\n",
    "row = data_xy.shape[0] # 200\n",
    "col = data_xy.shape[1] # 2\n",
    "dist_sq = np.zeros((row, row)) # array([[0....], [0....]])\n",
    "for i in range(row):\n",
    "    for j in range(row):\n",
    "        s = 0\n",
    "        for k in range(col):\n",
    "            # (x1-x2)^2 + (y1-y2)^2\n",
    "            s += (data_xy[i, k] - data_xy[j, k])**2\n",
    "        dist_sq[i, j] = round(s,2)"
   ]
  },
  {
   "cell_type": "code",
   "execution_count": 17,
   "id": "d54fdb34",
   "metadata": {
    "scrolled": true
   },
   "outputs": [
    {
     "data": {
      "text/plain": [
       "array([[ 0.  ,  0.85,  0.1 , ...,  4.52,  7.09,  4.68],\n",
       "       [ 0.85,  0.  ,  0.37, ...,  8.81, 12.5 ,  8.41],\n",
       "       [ 0.1 ,  0.37,  0.  , ...,  5.86,  8.81,  5.86],\n",
       "       ...,\n",
       "       [ 4.52,  8.81,  5.86, ...,  0.  ,  0.37,  0.32],\n",
       "       [ 7.09, 12.5 ,  8.81, ...,  0.37,  0.  ,  1.09],\n",
       "       [ 4.68,  8.41,  5.86, ...,  0.32,  1.09,  0.  ]])"
      ]
     },
     "execution_count": 17,
     "metadata": {},
     "output_type": "execute_result"
    }
   ],
   "source": [
    "dist_sq"
   ]
  },
  {
   "cell_type": "code",
   "execution_count": 18,
   "id": "cf168035",
   "metadata": {},
   "outputs": [],
   "source": [
    "def nearest_partition(dist_sq, K):\n",
    "    \n",
    "    # Use [Numpy function] to return the \"K Nearest Neighbor\"\n",
    "    # https://blog.csdn.net/qq_37007384/article/details/88668729\n",
    "    # 返回將對數組進行排序的索引(距離近到遠的 index )\n",
    "    # [[  0  82  43 ... 158 131 189]\n",
    "    #  [  1  39   6 ... 158 131 189]\n",
    "    #  [  2  86  90 ... 158 131 189]\n",
    "    #  ...\n",
    "    #  [197 143 136 ...   7  74  50]\n",
    "    #  [198 134 182 ...   7  74  50]\n",
    "    #  [199 196 125 ...  50 189   4]]\n",
    "    # nearest= np.argsort(dist_sq, axis=1)\n",
    "\n",
    "    # k-th元素將處於其最終排序位置，所有較小的元素將在其之前移動，而所有較大的元素將在其後面移動\n",
    "    # nearest_partition=np.argpartition(dist_sq,K+1,axis=1) dist_sq 第 K=1 小的元素位於 nearest_partition 的第 K+1 個位置上\n",
    "    # (也就是 nearest_partition[K] )\n",
    "    # argpartition()在 partition（）的基礎上返回排序完成數組的索引號\n",
    "    # [[  0  82  26 ... 197 198 199]\n",
    "    #  [ 39   6  16 ... 197 198 199]\n",
    "    #  [ 90  68   2 ... 197 198 199]\n",
    "    #  ...\n",
    "    #  [143 197 136 ...   3   2  99]\n",
    "    #  [134 182 198 ...   3   2  99]\n",
    "    #  [196 199 125 ...   3   2  99]]\n",
    "    nearest_partition = np.argpartition(dist_sq, K + 1, axis=1)\n",
    "    \n",
    "    return nearest_partition"
   ]
  },
  {
   "cell_type": "code",
   "execution_count": 26,
   "id": "1de088e1",
   "metadata": {},
   "outputs": [
    {
     "ename": "TypeError",
     "evalue": "'numpy.ndarray' object is not callable",
     "output_type": "error",
     "traceback": [
      "\u001b[1;31m---------------------------------------------------------------------------\u001b[0m",
      "\u001b[1;31mTypeError\u001b[0m                                 Traceback (most recent call last)",
      "\u001b[1;32m~\\AppData\\Local\\Temp/ipykernel_1052/2099473084.py\u001b[0m in \u001b[0;36m<module>\u001b[1;34m\u001b[0m\n\u001b[0;32m     24\u001b[0m \u001b[0mK\u001b[0m \u001b[1;33m=\u001b[0m \u001b[1;36m3\u001b[0m\u001b[1;33m\u001b[0m\u001b[1;33m\u001b[0m\u001b[0m\n\u001b[0;32m     25\u001b[0m \u001b[1;32mfor\u001b[0m \u001b[0mi\u001b[0m \u001b[1;32min\u001b[0m \u001b[0mrange\u001b[0m\u001b[1;33m(\u001b[0m\u001b[0mdata_xy\u001b[0m\u001b[1;33m.\u001b[0m\u001b[0mshape\u001b[0m\u001b[1;33m[\u001b[0m\u001b[1;36m0\u001b[0m\u001b[1;33m]\u001b[0m\u001b[1;33m)\u001b[0m\u001b[1;33m:\u001b[0m\u001b[1;33m\u001b[0m\u001b[1;33m\u001b[0m\u001b[0m\n\u001b[1;32m---> 26\u001b[1;33m     \u001b[0mnearest_partition\u001b[0m\u001b[1;33m(\u001b[0m\u001b[0mdist_sq\u001b[0m\u001b[1;33m,\u001b[0m \u001b[0mK\u001b[0m\u001b[1;33m)\u001b[0m\u001b[1;33m\u001b[0m\u001b[1;33m\u001b[0m\u001b[0m\n\u001b[0m\u001b[0;32m     27\u001b[0m     \u001b[1;32mfor\u001b[0m \u001b[0mj\u001b[0m \u001b[1;32min\u001b[0m \u001b[0mrange\u001b[0m\u001b[1;33m(\u001b[0m\u001b[0mdata_xy\u001b[0m\u001b[1;33m.\u001b[0m\u001b[0mshape\u001b[0m\u001b[1;33m[\u001b[0m\u001b[1;36m0\u001b[0m\u001b[1;33m]\u001b[0m\u001b[1;33m)\u001b[0m\u001b[1;33m:\u001b[0m\u001b[1;33m\u001b[0m\u001b[1;33m\u001b[0m\u001b[0m\n\u001b[0;32m     28\u001b[0m         \u001b[1;31m# plot a line from data_xy[i] to data_xy[j]\u001b[0m\u001b[1;33m\u001b[0m\u001b[1;33m\u001b[0m\u001b[0m\n",
      "\u001b[1;31mTypeError\u001b[0m: 'numpy.ndarray' object is not callable"
     ]
    },
    {
     "data": {
      "image/png": "[encoded data removed]",
      "text/plain": [
       "<Figure size 720x720 with 1 Axes>"
      ]
     },
     "metadata": {
      "needs_background": "light"
     },
     "output_type": "display_data"
    }
   ],
   "source": [
    "# Use [Numpy function] to find where label = 0 / label = 1\n",
    "\n",
    "# array([ 0,1,...99])\n",
    "index_0=np.where(bank[\"conterfeit\"]==0)\n",
    "# array([ 100,101,...199])\n",
    "index_1=np.where(bank[\"conterfeit\"]==1)\n",
    "\n",
    "# Use data_xy to plot the scatter plot \n",
    "# Label = 0 → color = green | Label = 1 → color = red\n",
    "# Fill X and Y in the plt.scatter\n",
    "# Remember to put on grid and legend and equal axis\n",
    "\n",
    "plt.figure(figsize = (10, 10))\n",
    "plt.scatter(data_xy[index_0,0],data_xy[index_0,1],s=20, alpha=0.8,c=\"green\")\n",
    "plt.scatter(data_xy[index_1,0],data_xy[index_1,1],s=20, alpha=0.8,c=\"red\") \n",
    "plt.legend([\"real banknote\",\"fake banknote\"])\n",
    "plt.grid()\n",
    "        \n",
    "# Draw lines from each point to its three nearest neighbors (set K=3)\n",
    "# Use some zip magic to make it happen (Hint is at below cell)\n",
    "# You might need loops to generate the plot below\n",
    "# set parameter [color='black', linewidth=1, alpha=0.5] when you draw lines \n",
    "\n",
    "K = 3\n",
    "for i in range(data_xy.shape[0]):\n",
    "    nearest_partition(dist_sq, K)\n",
    "    for j in range(data_xy.shape[0]):\n",
    "        # plot a line from data_xy[i] to data_xy[j]\n",
    "        # zip: 將資料從成對的資料包解壓縮到列表\n",
    "        plt.plot(*zip(data_xy[j], data_xy[i]), color=\"black\",linewidth=1, alpha=0.5)\n",
    "plot.show()\n"
   ]
  },
  {
   "cell_type": "code",
   "execution_count": 20,
   "id": "d41ace30",
   "metadata": {
    "scrolled": false
   },
   "outputs": [
    {
     "ename": "TypeError",
     "evalue": "scatter() missing 2 required positional arguments: 'x' and 'y'",
     "output_type": "error",
     "traceback": [
      "\u001b[1;31m---------------------------------------------------------------------------\u001b[0m",
      "\u001b[1;31mTypeError\u001b[0m                                 Traceback (most recent call last)",
      "\u001b[1;32m~\\AppData\\Local\\Temp/ipykernel_1052/190175280.py\u001b[0m in \u001b[0;36m<module>\u001b[1;34m\u001b[0m\n\u001b[0;32m     28\u001b[0m \u001b[0mplt\u001b[0m\u001b[1;33m.\u001b[0m\u001b[0mlegend\u001b[0m\u001b[1;33m(\u001b[0m\u001b[1;33m[\u001b[0m\u001b[1;34m\"real banknote\"\u001b[0m\u001b[1;33m,\u001b[0m\u001b[1;34m\"fake banknote\"\u001b[0m\u001b[1;33m]\u001b[0m\u001b[1;33m)\u001b[0m\u001b[1;33m\u001b[0m\u001b[1;33m\u001b[0m\u001b[0m\n\u001b[0;32m     29\u001b[0m \u001b[0mplt\u001b[0m\u001b[1;33m.\u001b[0m\u001b[0mgrid\u001b[0m\u001b[1;33m(\u001b[0m\u001b[1;33m)\u001b[0m\u001b[1;33m\u001b[0m\u001b[1;33m\u001b[0m\u001b[0m\n\u001b[1;32m---> 30\u001b[1;33m \u001b[0mplt\u001b[0m\u001b[1;33m.\u001b[0m\u001b[0mscatter\u001b[0m\u001b[1;33m(\u001b[0m\u001b[0ms\u001b[0m\u001b[1;33m=\u001b[0m\u001b[1;36m60\u001b[0m\u001b[1;33m)\u001b[0m \u001b[1;31m# Target dots，前面加上 x 和 y\u001b[0m\u001b[1;33m\u001b[0m\u001b[1;33m\u001b[0m\u001b[0m\n\u001b[0m\u001b[0;32m     31\u001b[0m \u001b[1;33m\u001b[0m\u001b[0m\n\u001b[0;32m     32\u001b[0m \u001b[1;33m\u001b[0m\u001b[0m\n",
      "\u001b[1;31mTypeError\u001b[0m: scatter() missing 2 required positional arguments: 'x' and 'y'"
     ]
    },
    {
     "data": {
      "image/png": "[encoded data removed]",
      "text/plain": [
       "<Figure size 864x864 with 1 Axes>"
      ]
     },
     "metadata": {
      "needs_background": "light"
     },
     "output_type": "display_data"
    }
   ],
   "source": [
    "# Set seed = 10 | Random select three dots from data_xy\n",
    "# Save dots index in varible \"target\" \n",
    "# Don't need to change below three lines\n",
    "\n",
    "random.seed(10)\n",
    "target = np.array([random.randint(0, len(data_xy)) for i in range(3)])\n",
    "text = ['A', 'B', 'C']\n",
    "\n",
    "\n",
    "# Use [Numpy function] to find where label = 0 / label = 1\n",
    "\n",
    "# array([ 0,1,...99])\n",
    "index_0=np.where(bank[\"conterfeit\"]==0)\n",
    "# array([ 100,101,...199])\n",
    "index_1=np.where(bank[\"conterfeit\"]==1)\n",
    "\n",
    "\n",
    "# Use data_xy to plot the scatter plot \n",
    "# Label = 0 → color = green | Label = 1 → color = red | Target → color = blue\n",
    "# Fill X and Y in the plt.scatter\n",
    "# Remember to put on grid and legend and equal axis\n",
    "# Put your code here\n",
    "\n",
    "plt.figure(figsize = (12, 12))\n",
    "# plt.figure(figsize = (10, 10))\n",
    "plt.scatter(data_xy[index_0,0],data_xy[index_0,1],s=20, alpha=0.8,c=\"green\")\n",
    "plt.scatter(data_xy[index_1,0],data_xy[index_1,1],s=20, alpha=0.8,c=\"red\") \n",
    "plt.legend([\"real banknote\",\"fake banknote\"])\n",
    "plt.grid()\n",
    "plt.scatter(s=60) # Target dots，前面加上 x 和 y\n",
    "\n",
    "\n",
    "# Draw lines from the selected three point to its three nearest neighbors (set K=3)\n",
    "# Use some zip magic to make it happen (Hint is at below cell)\n",
    "# You might need loops to generate the plot below\n",
    "# set parameter [color='black', linewidth=1, alpha=0.5] when you draw lines \n",
    "# Put text A, B, C on each dots (location: Right + 0.1、 Up + 0.1)\n",
    "# Put your code here\n",
    "\n",
    "\n",
    "K = 3\n"
   ]
  },
  {
   "cell_type": "markdown",
   "id": "1e6f1579",
   "metadata": {},
   "source": [
    "### Question：由上圖進行判斷，回答 ABC 三點各自被 KNN 分為哪一群，並說明原因。\n",
    "\n",
    "### Your Answer："
   ]
  },
  {
   "cell_type": "code",
   "execution_count": 21,
   "id": "66be6f90",
   "metadata": {},
   "outputs": [
    {
     "data": {
      "image/png": "[encoded data removed]",
      "text/plain": [
       "<Figure size 1080x360 with 2 Axes>"
      ]
     },
     "metadata": {
      "needs_background": "light"
     },
     "output_type": "display_data"
    }
   ],
   "source": [
    "# Hint: How to drow a line between two dots\n",
    "\n",
    "dots = np.array([[1, 2], [6, 3], [5, 6]])\n",
    "\n",
    "plt.figure(figsize=(15, 5))\n",
    "\n",
    "plt.subplot(121)\n",
    "plt.title('Wrong way')        \n",
    "for i in range(len(dots)): # 3\n",
    "    plt.scatter(dots[i][0], dots[i][1], color='red')\n",
    "\n",
    "for i in range(len(dots)):\n",
    "    for j in range(len(dots)):\n",
    "        plt.plot(dots[i], dots[j], color = 'black')\n",
    "\n",
    "plt.subplot(122)\n",
    "plt.title('Right way')\n",
    "\n",
    "for i in range(len(dots)):\n",
    "    plt.scatter(dots[i][0], dots[i][1], color='red')\n",
    "\n",
    "for i in range(len(dots)):\n",
    "    for j in range(len(dots)):\n",
    "        plt.plot(*zip(dots[i], dots[j]), color = 'blue')"
   ]
  },
  {
   "cell_type": "code",
   "execution_count": 25,
   "id": "fede1142",
   "metadata": {},
   "outputs": [
    {
     "data": {
      "text/plain": [
       "array([[  0,  82,  26, ..., 197, 198, 199],\n",
       "       [ 39,   6,  16, ..., 197, 198, 199],\n",
       "       [ 90,  68,   2, ..., 197, 198, 199],\n",
       "       ...,\n",
       "       [143, 197, 136, ...,   3,   2,  99],\n",
       "       [134, 182, 198, ...,   3,   2,  99],\n",
       "       [196, 199, 125, ...,   3,   2,  99]], dtype=int64)"
      ]
     },
     "execution_count": 25,
     "metadata": {},
     "output_type": "execute_result"
    }
   ],
   "source": [
    "nearest_partition = np.argpartition(dist_sq, K + 1, axis=1)\n",
    "nearest_partition"
   ]
  },
  {
   "cell_type": "code",
   "execution_count": null,
   "id": "340ecd3e",
   "metadata": {},
   "outputs": [],
   "source": []
  }
 ],
 "metadata": {
  "kernelspec": {
   "display_name": "Python 3 (ipykernel)",
   "language": "python",
   "name": "python3"
  },
  "language_info": {
   "codemirror_mode": {
    "name": "ipython",
    "version": 3
   },
   "file_extension": ".py",
   "mimetype": "text/x-python",
   "name": "python",
   "nbconvert_exporter": "python",
   "pygments_lexer": "ipython3",
   "version": "3.9.7"
  }
 },
 "nbformat": 4,
 "nbformat_minor": 5
}
